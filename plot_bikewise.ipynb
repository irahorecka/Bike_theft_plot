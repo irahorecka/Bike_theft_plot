{
 "cells": [
  {
   "cell_type": "markdown",
   "metadata": {},
   "source": [
    "## Plot bike theft reports from January 1, 2018 to April 3, 2020\n",
    "\n",
    "A jupyter notebook that gathers bike theft data from bikewise.org and generates multiple line plots in parallel.<br>\n",
    "The two notable libraries are:\n",
    "\n",
    "    1) concurrent.futures\n",
    "    2) bikewise\n",
    "    \n",
    "Execute cells in a linear fashion to produce the figures."
   ]
  },
  {
   "cell_type": "code",
   "execution_count": 1,
   "metadata": {},
   "outputs": [],
   "source": [
    "\"\"\"Define functions to parallelize\n",
    "gathering bike theft reports.\"\"\"\n",
    "\n",
    "import concurrent.futures\n",
    "import datetime\n",
    "import os\n",
    "import sys\n",
    "import time\n",
    "from bikewise import BikeWise\n",
    "BASE_DIR = os.path.abspath('')\n",
    "\n",
    "\n",
    "def datetime_to_unixtime(datetime_obj):\n",
    "    \"\"\"convert datetime obj to unixtime\"\"\"\n",
    "    unixtime = int(time.mktime(datetime_obj.timetuple()))\n",
    "    return unixtime\n",
    "\n",
    "\n",
    "def total_stolen_perday(args):\n",
    "    \"\"\"find theft reports in a given day\"\"\"\n",
    "    iterable = args[0]\n",
    "    start_date = args[1]\n",
    "    one_day = 86400  # 86400 seconds in a day\n",
    "    today = start_date + one_day * iterable\n",
    "    tomorrow = start_date + one_day * (1 + iterable)\n",
    "    \n",
    "    # make request to bikewise.org API\n",
    "    bike = BikeWise()\n",
    "    theft_incidents = bike.locations.markers(limit=10000, incident_type='theft', occurred_after=today, occurred_before=tomorrow) \n",
    "    theft_locations = [incidents['geometry']['coordinates'] for incidents in theft_incidents['features']]\n",
    "    # remove duplicate theft incidents in theft_locations\n",
    "    set_theft = set(tuple(location) for location in theft_locations)\n",
    "    unique_list_theft = [list(location) for location in set_theft]\n",
    "    date_today = datetime.datetime.utcfromtimestamp(today).strftime('%Y-%m-%d')\n",
    "    \n",
    "    # store results in dictionary\n",
    "    result = {'date': date_today, 'locations': unique_list_theft, 'total_theft': len(theft_incidents['features'])}\n",
    "    sys.stdout.write(\"\\rProcessing date: {}\".format(date_today))\n",
    "    sys.stdout.flush()\n",
    "    \n",
    "    return result\n",
    "    \n",
    "    \n",
    "def _futures_threads(transform, iterable):\n",
    "    \"\"\"use a thread pool to execute\n",
    "    calls asynchronously\"\"\"\n",
    "    with concurrent.futures.ThreadPoolExecutor() as executor:\n",
    "        result = executor.map(transform, iterable)\n",
    "    return result\n"
   ]
  },
  {
   "cell_type": "code",
   "execution_count": 2,
   "metadata": {},
   "outputs": [
    {
     "name": "stdout",
     "output_type": "stream",
     "text": [
      "Processing date: 2020-04-02"
     ]
    }
   ],
   "source": [
    "\"\"\"Use functions above to gather bike\n",
    "theft reports from January 1, 2018 to\n",
    "April 3, 2020.\"\"\"\n",
    "\n",
    "# Determine start and end dates - find days in between\n",
    "start_date = datetime.date(2018,1,1)\n",
    "end_date = datetime.date(2020,4,3)\n",
    "delta_days = (end_date - start_date).days\n",
    "\n",
    "\n",
    "# Convert start date to UNIX UTC time and create tuple of args\n",
    "# to feed into _futures_threads\n",
    "unix_start_date = datetime_to_unixtime(start_date)\n",
    "args = ((i, unix_start_date) for i in range(delta_days))\n",
    "\n",
    "\n",
    "if __name__ == '__main__':\n",
    "    \"\"\"make list from generator\n",
    "    via _futures_threads\"\"\"\n",
    "    result = list(_futures_threads(total_stolen_perday, args))\n"
   ]
  },
  {
   "cell_type": "code",
   "execution_count": 3,
   "metadata": {},
   "outputs": [
    {
     "name": "stdout",
     "output_type": "stream",
     "text": [
      "Processing figure: 822"
     ]
    }
   ],
   "source": [
    "\"\"\"Use matplotlib to plot gathered information\n",
    "in parallel. Save figs in directory ./figs\"\"\"\n",
    "\n",
    "import matplotlib.pyplot as plt\n",
    "import matplotlib.dates as mdates\n",
    "import warnings\n",
    "warnings.filterwarnings(\"ignore\")\n",
    "\n",
    "\n",
    "def plot(args):\n",
    "    \"\"\"plot line graph showing current and past\n",
    "    bike theft counts\"\"\"\n",
    "    values = [len(event['locations']) for event in result]        \n",
    "    days = [datetime.datetime.strptime(event['date'],'%Y-%m-%d').date() for event in result]\n",
    "    index = args[0]\n",
    "    day = args[1]\n",
    "    locations = args[2]\n",
    "    \n",
    "    plt.figure(figsize=(16,8))\n",
    "    plt.clf()\n",
    "    plt.title('Reported Bike Thefts on Bikewise', fontweight='bold', fontsize=16)\n",
    "    plt.xlabel('Date', fontsize=14)\n",
    "    plt.ylabel('Reported Thefts', fontsize=14)\n",
    "    plt.gca().xaxis.set_major_formatter(mdates.DateFormatter('%Y-%m-%d'))\n",
    "    plt.gca().xaxis.set_major_locator(mdates.MonthLocator())\n",
    "    plt.plot(days[:index], values[:index], color='r')\n",
    "    plt.gcf().autofmt_xdate()\n",
    "    plt.savefig('fig{}.png'.format(index))\n",
    "\n",
    "    \n",
    "def _futures_plot(transform, iterable):\n",
    "    \"\"\"use a process pool to execute\n",
    "    calls asynchronously\"\"\"\n",
    "    with concurrent.futures.ProcessPoolExecutor() as executor:\n",
    "        for index, item in enumerate(executor.map(transform, iterable)):\n",
    "            sys.stdout.write(\"\\rProcessing figure: {}\".format(index))\n",
    "            sys.stdout.flush()\n",
    "            \n",
    "            \n",
    "if __name__ == '__main__':\n",
    "    \"\"\"Change dir to ./figs and generate args\n",
    "    for parallel plotting via _futures_plot.\"\"\"\n",
    "    os.chdir(\"{}/figs\".format(BASE_DIR))\n",
    "    args = ((index, \n",
    "         datetime.datetime.strptime(event['date'], '%Y-%m-%d').date(),\n",
    "         len(event['locations']))\n",
    "         for index, event in enumerate(result)) \n",
    "    \n",
    "    _futures_plot(plot, args)\n"
   ]
  },
  {
   "cell_type": "code",
   "execution_count": null,
   "metadata": {},
   "outputs": [],
   "source": []
  }
 ],
 "metadata": {
  "kernelspec": {
   "display_name": "Python 3",
   "language": "python",
   "name": "python3"
  },
  "language_info": {
   "codemirror_mode": {
    "name": "ipython",
    "version": 3
   },
   "file_extension": ".py",
   "mimetype": "text/x-python",
   "name": "python",
   "nbconvert_exporter": "python",
   "pygments_lexer": "ipython3",
   "version": "3.7.4"
  }
 },
 "nbformat": 4,
 "nbformat_minor": 4
}
